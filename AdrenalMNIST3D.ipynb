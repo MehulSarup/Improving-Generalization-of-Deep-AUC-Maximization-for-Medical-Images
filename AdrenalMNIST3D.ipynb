{
  "cells": [
    {
      "cell_type": "markdown",
      "source": [
        "# AdrenalMNIST3D Data"
      ],
      "metadata": {
        "id": "d3FHKMZL3-zu"
      }
    },
    {
      "cell_type": "code",
      "execution_count": null,
      "metadata": {
        "colab": {
          "base_uri": "https://localhost:8080/"
        },
        "id": "S2FHMCXFtIXb",
        "outputId": "4f6c261f-42c5-4b09-8c3e-23460055a995"
      },
      "outputs": [
        {
          "output_type": "stream",
          "name": "stdout",
          "text": [
            "Looking in indexes: https://pypi.org/simple, https://us-python.pkg.dev/colab-wheels/public/simple/\n",
            "Collecting libauc==1.2.0\n",
            "  Downloading libauc-1.2.0-py3-none-any.whl (73 kB)\n",
            "\u001b[2K     \u001b[90m━━━━━━━━━━━━━━━━━━━━━━━━━━━━━━━━━━━━━━━\u001b[0m \u001b[32m73.6/73.6 kB\u001b[0m \u001b[31m874.3 kB/s\u001b[0m eta \u001b[36m0:00:00\u001b[0m\n",
            "\u001b[?25hRequirement already satisfied: Pillow in /usr/local/lib/python3.10/dist-packages (from libauc==1.2.0) (8.4.0)\n",
            "Requirement already satisfied: scikit-image in /usr/local/lib/python3.10/dist-packages (from libauc==1.2.0) (0.19.3)\n",
            "Requirement already satisfied: torch>=1.2 in /usr/local/lib/python3.10/dist-packages (from libauc==1.2.0) (2.0.0+cu118)\n",
            "Requirement already satisfied: opencv-python in /usr/local/lib/python3.10/dist-packages (from libauc==1.2.0) (4.7.0.72)\n",
            "Requirement already satisfied: numpy in /usr/local/lib/python3.10/dist-packages (from libauc==1.2.0) (1.22.4)\n",
            "Requirement already satisfied: pandas in /usr/local/lib/python3.10/dist-packages (from libauc==1.2.0) (1.5.3)\n",
            "Requirement already satisfied: scikit-learn in /usr/local/lib/python3.10/dist-packages (from libauc==1.2.0) (1.2.2)\n",
            "Requirement already satisfied: typing-extensions in /usr/local/lib/python3.10/dist-packages (from torch>=1.2->libauc==1.2.0) (4.5.0)\n",
            "Requirement already satisfied: sympy in /usr/local/lib/python3.10/dist-packages (from torch>=1.2->libauc==1.2.0) (1.11.1)\n",
            "Requirement already satisfied: networkx in /usr/local/lib/python3.10/dist-packages (from torch>=1.2->libauc==1.2.0) (3.1)\n",
            "Requirement already satisfied: triton==2.0.0 in /usr/local/lib/python3.10/dist-packages (from torch>=1.2->libauc==1.2.0) (2.0.0)\n",
            "Requirement already satisfied: filelock in /usr/local/lib/python3.10/dist-packages (from torch>=1.2->libauc==1.2.0) (3.12.0)\n",
            "Requirement already satisfied: jinja2 in /usr/local/lib/python3.10/dist-packages (from torch>=1.2->libauc==1.2.0) (3.1.2)\n",
            "Requirement already satisfied: cmake in /usr/local/lib/python3.10/dist-packages (from triton==2.0.0->torch>=1.2->libauc==1.2.0) (3.25.2)\n",
            "Requirement already satisfied: lit in /usr/local/lib/python3.10/dist-packages (from triton==2.0.0->torch>=1.2->libauc==1.2.0) (16.0.2)\n",
            "Requirement already satisfied: pytz>=2020.1 in /usr/local/lib/python3.10/dist-packages (from pandas->libauc==1.2.0) (2022.7.1)\n",
            "Requirement already satisfied: python-dateutil>=2.8.1 in /usr/local/lib/python3.10/dist-packages (from pandas->libauc==1.2.0) (2.8.2)\n",
            "Requirement already satisfied: scipy>=1.4.1 in /usr/local/lib/python3.10/dist-packages (from scikit-image->libauc==1.2.0) (1.10.1)\n",
            "Requirement already satisfied: imageio>=2.4.1 in /usr/local/lib/python3.10/dist-packages (from scikit-image->libauc==1.2.0) (2.25.1)\n",
            "Requirement already satisfied: tifffile>=2019.7.26 in /usr/local/lib/python3.10/dist-packages (from scikit-image->libauc==1.2.0) (2023.4.12)\n",
            "Requirement already satisfied: packaging>=20.0 in /usr/local/lib/python3.10/dist-packages (from scikit-image->libauc==1.2.0) (23.1)\n",
            "Requirement already satisfied: PyWavelets>=1.1.1 in /usr/local/lib/python3.10/dist-packages (from scikit-image->libauc==1.2.0) (1.4.1)\n",
            "Requirement already satisfied: joblib>=1.1.1 in /usr/local/lib/python3.10/dist-packages (from scikit-learn->libauc==1.2.0) (1.2.0)\n",
            "Requirement already satisfied: threadpoolctl>=2.0.0 in /usr/local/lib/python3.10/dist-packages (from scikit-learn->libauc==1.2.0) (3.1.0)\n",
            "Requirement already satisfied: six>=1.5 in /usr/local/lib/python3.10/dist-packages (from python-dateutil>=2.8.1->pandas->libauc==1.2.0) (1.16.0)\n",
            "Requirement already satisfied: MarkupSafe>=2.0 in /usr/local/lib/python3.10/dist-packages (from jinja2->torch>=1.2->libauc==1.2.0) (2.1.2)\n",
            "Requirement already satisfied: mpmath>=0.19 in /usr/local/lib/python3.10/dist-packages (from sympy->torch>=1.2->libauc==1.2.0) (1.3.0)\n",
            "Installing collected packages: libauc\n",
            "Successfully installed libauc-1.2.0\n",
            "Looking in indexes: https://pypi.org/simple, https://us-python.pkg.dev/colab-wheels/public/simple/\n",
            "Collecting medmnist\n",
            "  Downloading medmnist-2.2.1-py3-none-any.whl (21 kB)\n",
            "Requirement already satisfied: scikit-image in /usr/local/lib/python3.10/dist-packages (from medmnist) (0.19.3)\n",
            "Requirement already satisfied: tqdm in /usr/local/lib/python3.10/dist-packages (from medmnist) (4.65.0)\n",
            "Requirement already satisfied: scikit-learn in /usr/local/lib/python3.10/dist-packages (from medmnist) (1.2.2)\n",
            "Requirement already satisfied: numpy in /usr/local/lib/python3.10/dist-packages (from medmnist) (1.22.4)\n",
            "Requirement already satisfied: Pillow in /usr/local/lib/python3.10/dist-packages (from medmnist) (8.4.0)\n",
            "Collecting fire\n",
            "  Downloading fire-0.5.0.tar.gz (88 kB)\n",
            "\u001b[2K     \u001b[90m━━━━━━━━━━━━━━━━━━━━━━━━━━━━━━━━━━━━━━━━\u001b[0m \u001b[32m88.3/88.3 kB\u001b[0m \u001b[31m5.4 MB/s\u001b[0m eta \u001b[36m0:00:00\u001b[0m\n",
            "\u001b[?25h  Preparing metadata (setup.py) ... \u001b[?25l\u001b[?25hdone\n",
            "Requirement already satisfied: torch in /usr/local/lib/python3.10/dist-packages (from medmnist) (2.0.0+cu118)\n",
            "Requirement already satisfied: torchvision in /usr/local/lib/python3.10/dist-packages (from medmnist) (0.15.1+cu118)\n",
            "Requirement already satisfied: pandas in /usr/local/lib/python3.10/dist-packages (from medmnist) (1.5.3)\n",
            "Requirement already satisfied: six in /usr/local/lib/python3.10/dist-packages (from fire->medmnist) (1.16.0)\n",
            "Requirement already satisfied: termcolor in /usr/local/lib/python3.10/dist-packages (from fire->medmnist) (2.3.0)\n",
            "Requirement already satisfied: python-dateutil>=2.8.1 in /usr/local/lib/python3.10/dist-packages (from pandas->medmnist) (2.8.2)\n",
            "Requirement already satisfied: pytz>=2020.1 in /usr/local/lib/python3.10/dist-packages (from pandas->medmnist) (2022.7.1)\n",
            "Requirement already satisfied: tifffile>=2019.7.26 in /usr/local/lib/python3.10/dist-packages (from scikit-image->medmnist) (2023.4.12)\n",
            "Requirement already satisfied: scipy>=1.4.1 in /usr/local/lib/python3.10/dist-packages (from scikit-image->medmnist) (1.10.1)\n",
            "Requirement already satisfied: packaging>=20.0 in /usr/local/lib/python3.10/dist-packages (from scikit-image->medmnist) (23.1)\n",
            "Requirement already satisfied: networkx>=2.2 in /usr/local/lib/python3.10/dist-packages (from scikit-image->medmnist) (3.1)\n",
            "Requirement already satisfied: PyWavelets>=1.1.1 in /usr/local/lib/python3.10/dist-packages (from scikit-image->medmnist) (1.4.1)\n",
            "Requirement already satisfied: imageio>=2.4.1 in /usr/local/lib/python3.10/dist-packages (from scikit-image->medmnist) (2.25.1)\n",
            "Requirement already satisfied: threadpoolctl>=2.0.0 in /usr/local/lib/python3.10/dist-packages (from scikit-learn->medmnist) (3.1.0)\n",
            "Requirement already satisfied: joblib>=1.1.1 in /usr/local/lib/python3.10/dist-packages (from scikit-learn->medmnist) (1.2.0)\n",
            "Requirement already satisfied: jinja2 in /usr/local/lib/python3.10/dist-packages (from torch->medmnist) (3.1.2)\n",
            "Requirement already satisfied: filelock in /usr/local/lib/python3.10/dist-packages (from torch->medmnist) (3.12.0)\n",
            "Requirement already satisfied: typing-extensions in /usr/local/lib/python3.10/dist-packages (from torch->medmnist) (4.5.0)\n",
            "Requirement already satisfied: triton==2.0.0 in /usr/local/lib/python3.10/dist-packages (from torch->medmnist) (2.0.0)\n",
            "Requirement already satisfied: sympy in /usr/local/lib/python3.10/dist-packages (from torch->medmnist) (1.11.1)\n",
            "Requirement already satisfied: cmake in /usr/local/lib/python3.10/dist-packages (from triton==2.0.0->torch->medmnist) (3.25.2)\n",
            "Requirement already satisfied: lit in /usr/local/lib/python3.10/dist-packages (from triton==2.0.0->torch->medmnist) (16.0.2)\n",
            "Requirement already satisfied: requests in /usr/local/lib/python3.10/dist-packages (from torchvision->medmnist) (2.27.1)\n",
            "Requirement already satisfied: MarkupSafe>=2.0 in /usr/local/lib/python3.10/dist-packages (from jinja2->torch->medmnist) (2.1.2)\n",
            "Requirement already satisfied: certifi>=2017.4.17 in /usr/local/lib/python3.10/dist-packages (from requests->torchvision->medmnist) (2022.12.7)\n",
            "Requirement already satisfied: idna<4,>=2.5 in /usr/local/lib/python3.10/dist-packages (from requests->torchvision->medmnist) (3.4)\n",
            "Requirement already satisfied: urllib3<1.27,>=1.21.1 in /usr/local/lib/python3.10/dist-packages (from requests->torchvision->medmnist) (1.26.15)\n",
            "Requirement already satisfied: charset-normalizer~=2.0.0 in /usr/local/lib/python3.10/dist-packages (from requests->torchvision->medmnist) (2.0.12)\n",
            "Requirement already satisfied: mpmath>=0.19 in /usr/local/lib/python3.10/dist-packages (from sympy->torch->medmnist) (1.3.0)\n",
            "Building wheels for collected packages: fire\n",
            "  Building wheel for fire (setup.py) ... \u001b[?25l\u001b[?25hdone\n",
            "  Created wheel for fire: filename=fire-0.5.0-py2.py3-none-any.whl size=116952 sha256=53d515215aa3063292207f58d3c00ab4add52f7d7555ce249ec82b65458fde26\n",
            "  Stored in directory: /root/.cache/pip/wheels/90/d4/f7/9404e5db0116bd4d43e5666eaa3e70ab53723e1e3ea40c9a95\n",
            "Successfully built fire\n",
            "Installing collected packages: fire, medmnist\n",
            "Successfully installed fire-0.5.0 medmnist-2.2.1\n",
            "Looking in indexes: https://pypi.org/simple, https://us-python.pkg.dev/colab-wheels/public/simple/\n",
            "Collecting tensorboardX\n",
            "  Downloading tensorboardX-2.6-py2.py3-none-any.whl (114 kB)\n",
            "\u001b[2K     \u001b[90m━━━━━━━━━━━━━━━━━━━━━━━━━━━━━━━━━━━━━━━\u001b[0m \u001b[32m114.5/114.5 kB\u001b[0m \u001b[31m8.0 MB/s\u001b[0m eta \u001b[36m0:00:00\u001b[0m\n",
            "\u001b[?25hRequirement already satisfied: protobuf<4,>=3.8.0 in /usr/local/lib/python3.10/dist-packages (from tensorboardX) (3.20.3)\n",
            "Requirement already satisfied: packaging in /usr/local/lib/python3.10/dist-packages (from tensorboardX) (23.1)\n",
            "Requirement already satisfied: numpy in /usr/local/lib/python3.10/dist-packages (from tensorboardX) (1.22.4)\n",
            "Installing collected packages: tensorboardX\n",
            "Successfully installed tensorboardX-2.6\n",
            "Looking in indexes: https://pypi.org/simple, https://us-python.pkg.dev/colab-wheels/public/simple/\n",
            "Collecting acsconv\n",
            "  Downloading ACSConv-0.1.1.tar.gz (15 kB)\n",
            "  Preparing metadata (setup.py) ... \u001b[?25l\u001b[?25hdone\n",
            "Requirement already satisfied: fire in /usr/local/lib/python3.10/dist-packages (from acsconv) (0.5.0)\n",
            "Requirement already satisfied: numpy in /usr/local/lib/python3.10/dist-packages (from acsconv) (1.22.4)\n",
            "Requirement already satisfied: matplotlib in /usr/local/lib/python3.10/dist-packages (from acsconv) (3.7.1)\n",
            "Requirement already satisfied: pandas in /usr/local/lib/python3.10/dist-packages (from acsconv) (1.5.3)\n",
            "Requirement already satisfied: tqdm in /usr/local/lib/python3.10/dist-packages (from acsconv) (4.65.0)\n",
            "Requirement already satisfied: scikit-image in /usr/local/lib/python3.10/dist-packages (from acsconv) (0.19.3)\n",
            "Requirement already satisfied: scikit-learn in /usr/local/lib/python3.10/dist-packages (from acsconv) (1.2.2)\n",
            "Requirement already satisfied: scipy in /usr/local/lib/python3.10/dist-packages (from acsconv) (1.10.1)\n",
            "Requirement already satisfied: tensorboardx in /usr/local/lib/python3.10/dist-packages (from acsconv) (2.6)\n",
            "Requirement already satisfied: torch in /usr/local/lib/python3.10/dist-packages (from acsconv) (2.0.0+cu118)\n",
            "Requirement already satisfied: torchvision in /usr/local/lib/python3.10/dist-packages (from acsconv) (0.15.1+cu118)\n",
            "Requirement already satisfied: termcolor in /usr/local/lib/python3.10/dist-packages (from fire->acsconv) (2.3.0)\n",
            "Requirement already satisfied: six in /usr/local/lib/python3.10/dist-packages (from fire->acsconv) (1.16.0)\n",
            "Requirement already satisfied: cycler>=0.10 in /usr/local/lib/python3.10/dist-packages (from matplotlib->acsconv) (0.11.0)\n",
            "Requirement already satisfied: packaging>=20.0 in /usr/local/lib/python3.10/dist-packages (from matplotlib->acsconv) (23.1)\n",
            "Requirement already satisfied: pillow>=6.2.0 in /usr/local/lib/python3.10/dist-packages (from matplotlib->acsconv) (8.4.0)\n",
            "Requirement already satisfied: python-dateutil>=2.7 in /usr/local/lib/python3.10/dist-packages (from matplotlib->acsconv) (2.8.2)\n",
            "Requirement already satisfied: kiwisolver>=1.0.1 in /usr/local/lib/python3.10/dist-packages (from matplotlib->acsconv) (1.4.4)\n",
            "Requirement already satisfied: pyparsing>=2.3.1 in /usr/local/lib/python3.10/dist-packages (from matplotlib->acsconv) (3.0.9)\n",
            "Requirement already satisfied: contourpy>=1.0.1 in /usr/local/lib/python3.10/dist-packages (from matplotlib->acsconv) (1.0.7)\n",
            "Requirement already satisfied: fonttools>=4.22.0 in /usr/local/lib/python3.10/dist-packages (from matplotlib->acsconv) (4.39.3)\n",
            "Requirement already satisfied: pytz>=2020.1 in /usr/local/lib/python3.10/dist-packages (from pandas->acsconv) (2022.7.1)\n",
            "Requirement already satisfied: networkx>=2.2 in /usr/local/lib/python3.10/dist-packages (from scikit-image->acsconv) (3.1)\n",
            "Requirement already satisfied: tifffile>=2019.7.26 in /usr/local/lib/python3.10/dist-packages (from scikit-image->acsconv) (2023.4.12)\n",
            "Requirement already satisfied: PyWavelets>=1.1.1 in /usr/local/lib/python3.10/dist-packages (from scikit-image->acsconv) (1.4.1)\n",
            "Requirement already satisfied: imageio>=2.4.1 in /usr/local/lib/python3.10/dist-packages (from scikit-image->acsconv) (2.25.1)\n",
            "Requirement already satisfied: joblib>=1.1.1 in /usr/local/lib/python3.10/dist-packages (from scikit-learn->acsconv) (1.2.0)\n",
            "Requirement already satisfied: threadpoolctl>=2.0.0 in /usr/local/lib/python3.10/dist-packages (from scikit-learn->acsconv) (3.1.0)\n",
            "Requirement already satisfied: protobuf<4,>=3.8.0 in /usr/local/lib/python3.10/dist-packages (from tensorboardx->acsconv) (3.20.3)\n",
            "Requirement already satisfied: filelock in /usr/local/lib/python3.10/dist-packages (from torch->acsconv) (3.12.0)\n",
            "Requirement already satisfied: jinja2 in /usr/local/lib/python3.10/dist-packages (from torch->acsconv) (3.1.2)\n",
            "Requirement already satisfied: sympy in /usr/local/lib/python3.10/dist-packages (from torch->acsconv) (1.11.1)\n",
            "Requirement already satisfied: triton==2.0.0 in /usr/local/lib/python3.10/dist-packages (from torch->acsconv) (2.0.0)\n",
            "Requirement already satisfied: typing-extensions in /usr/local/lib/python3.10/dist-packages (from torch->acsconv) (4.5.0)\n",
            "Requirement already satisfied: lit in /usr/local/lib/python3.10/dist-packages (from triton==2.0.0->torch->acsconv) (16.0.2)\n",
            "Requirement already satisfied: cmake in /usr/local/lib/python3.10/dist-packages (from triton==2.0.0->torch->acsconv) (3.25.2)\n",
            "Requirement already satisfied: requests in /usr/local/lib/python3.10/dist-packages (from torchvision->acsconv) (2.27.1)\n",
            "Requirement already satisfied: MarkupSafe>=2.0 in /usr/local/lib/python3.10/dist-packages (from jinja2->torch->acsconv) (2.1.2)\n",
            "Requirement already satisfied: charset-normalizer~=2.0.0 in /usr/local/lib/python3.10/dist-packages (from requests->torchvision->acsconv) (2.0.12)\n",
            "Requirement already satisfied: urllib3<1.27,>=1.21.1 in /usr/local/lib/python3.10/dist-packages (from requests->torchvision->acsconv) (1.26.15)\n",
            "Requirement already satisfied: idna<4,>=2.5 in /usr/local/lib/python3.10/dist-packages (from requests->torchvision->acsconv) (3.4)\n",
            "Requirement already satisfied: certifi>=2017.4.17 in /usr/local/lib/python3.10/dist-packages (from requests->torchvision->acsconv) (2022.12.7)\n",
            "Requirement already satisfied: mpmath>=0.19 in /usr/local/lib/python3.10/dist-packages (from sympy->torch->acsconv) (1.3.0)\n",
            "Building wheels for collected packages: acsconv\n",
            "  Building wheel for acsconv (setup.py) ... \u001b[?25l\u001b[?25hdone\n",
            "  Created wheel for acsconv: filename=ACSConv-0.1.1-py3-none-any.whl size=24201 sha256=e9d40d8db55800a6bd17c1aa37ef556826e5cc754e8f64caf27451bbacf85296\n",
            "  Stored in directory: /root/.cache/pip/wheels/0e/b1/ef/43fe6db442ef60fc6a8c7f98f330672eeca58463ebef542e62\n",
            "Successfully built acsconv\n",
            "Installing collected packages: acsconv\n",
            "Successfully installed acsconv-0.1.1\n"
          ]
        }
      ],
      "source": [
        "# Install libAUC and medMNIST\n",
        "!pip install libauc==1.2.0\n",
        "!pip install medmnist\n",
        "!pip install tensorboardX\n",
        "!pip install acsconv"
      ]
    },
    {
      "cell_type": "markdown",
      "source": [
        "# Importing Libraries"
      ],
      "metadata": {
        "id": "Blqju_XPGcFe"
      }
    },
    {
      "cell_type": "code",
      "execution_count": null,
      "metadata": {
        "id": "2ijm1bJttThI",
        "colab": {
          "base_uri": "https://localhost:8080/"
        },
        "outputId": "445da75b-cf54-4b29-c8fc-64b5e5ac4186"
      },
      "outputs": [
        {
          "output_type": "stream",
          "name": "stdout",
          "text": [
            "The ``converters`` are currently experimental. It may not support operations including (but not limited to) Functions in ``torch.nn.functional`` that involved data dimension\n"
          ]
        }
      ],
      "source": [
        "import numpy as np\n",
        "import torch\n",
        "import torch.nn as nn\n",
        "import torch.optim as optim\n",
        "import torch.utils.data as data\n",
        "import torchvision.transforms as transforms\n",
        "import medmnist\n",
        "from medmnist import INFO, Evaluator\n",
        "import os\n",
        "import random\n",
        "import torchvision\n",
        "from torchvision import datasets, models\n",
        "from torch.utils.data import DataLoader\n",
        "from libauc.losses import AUCMLoss\n",
        "from libauc.optimizers import PESG\n",
        "from libauc.metrics import auc_roc_score\n",
        "from sklearn.metrics import roc_auc_score\n",
        "from sklearn.metrics import accuracy_score\n",
        "from acsconv.converters import Conv3dConverter\n",
        "from libauc.models import resnet18 as ResNet18\n"
      ]
    },
    {
      "cell_type": "markdown",
      "source": [
        "# Importing the dataset"
      ],
      "metadata": {
        "id": "7BwUn9ZLxiuo"
      }
    },
    {
      "cell_type": "code",
      "execution_count": null,
      "metadata": {
        "id": "zMCedDg0Zzbs"
      },
      "outputs": [],
      "source": [
        "data_flag = 'adrenalmnist3d'\n",
        "download = True\n",
        "as_rgb = True\n",
        "info = INFO[data_flag]\n",
        "task = info['task']\n",
        "n_channels = info['n_channels']\n",
        "n_classes = len(info['label'])\n",
        "DataClass = getattr(medmnist, info['python_class'])"
      ]
    },
    {
      "cell_type": "markdown",
      "source": [
        "# Parameters"
      ],
      "metadata": {
        "id": "Zo1owvasGocx"
      }
    },
    {
      "cell_type": "code",
      "source": [
        "seed = 0\n",
        "random.seed(seed)\n",
        "np.random.seed(seed)\n",
        "torch.manual_seed(seed)\n",
        "BATCH_SIZE = 64\n",
        "imratio = 0.1\n",
        "total_epochs = 101 #50 75 90\n",
        "#decay_epochs = [50, 75]\n",
        "shape_transform = True\n",
        "torch.backends.cudnn.deterministic = True\n",
        "torch.backends.cudnn.benchmark = False"
      ],
      "metadata": {
        "id": "u9QR3rkYGiKy"
      },
      "execution_count": null,
      "outputs": []
    },
    {
      "cell_type": "code",
      "source": [
        "# Loading and Transforming the data\n",
        "class Transform3D:\n",
        "    def __init__(self, mul=None):\n",
        "        self.mul = mul\n",
        "    def __call__(self, voxel):\n",
        "        if self.mul == '0.5':\n",
        "            voxel = voxel * 0.5\n",
        "        elif self.mul == 'random':\n",
        "            voxel = voxel * np.random.uniform()\n",
        "        return voxel.astype(np.float32)\n",
        "\n",
        "train_transform = Transform3D(mul='random') if shape_transform else Transform3D()\n",
        "eval_transform = Transform3D(mul='0.5') if shape_transform else Transform3D()\n",
        "\n",
        "train_dataset = DataClass(split='train', transform=train_transform, download=download, as_rgb=as_rgb)\n",
        "train_dataset_at_eval = DataClass(split='train', transform=eval_transform, download=download, as_rgb=as_rgb)\n",
        "val_dataset = DataClass(split='val', transform=eval_transform, download=download, as_rgb=as_rgb)\n",
        "test_dataset = DataClass(split='test', transform=eval_transform, download=download, as_rgb=as_rgb)\n",
        "\n",
        "train_loader = data.DataLoader(dataset=train_dataset, batch_size=BATCH_SIZE, shuffle=True)\n",
        "train_loader_at_eval = data.DataLoader(dataset=train_dataset_at_eval, batch_size=2*BATCH_SIZE, shuffle=False)\n",
        "val_loader = data.DataLoader(dataset=val_dataset, batch_size=2*BATCH_SIZE, shuffle=False)\n",
        "test_loader = data.DataLoader(dataset=test_dataset, batch_size=2*BATCH_SIZE, shuffle=False)\n"
      ],
      "metadata": {
        "colab": {
          "base_uri": "https://localhost:8080/"
        },
        "id": "GoM1RqRq-UQi",
        "outputId": "ad258d46-bab4-40d2-bf52-76043359d930"
      },
      "execution_count": null,
      "outputs": [
        {
          "output_type": "stream",
          "name": "stdout",
          "text": [
            "Downloading https://zenodo.org/record/6496656/files/adrenalmnist3d.npz?download=1 to /root/.medmnist/adrenalmnist3d.npz\n"
          ]
        },
        {
          "output_type": "stream",
          "name": "stderr",
          "text": [
            "100%|██████████| 276833/276833 [00:00<00:00, 4131209.09it/s]\n"
          ]
        },
        {
          "output_type": "stream",
          "name": "stdout",
          "text": [
            "Using downloaded and verified file: /root/.medmnist/adrenalmnist3d.npz\n",
            "Using downloaded and verified file: /root/.medmnist/adrenalmnist3d.npz\n",
            "Using downloaded and verified file: /root/.medmnist/adrenalmnist3d.npz\n"
          ]
        }
      ]
    },
    {
      "cell_type": "code",
      "source": [
        "train_dataset"
      ],
      "metadata": {
        "colab": {
          "base_uri": "https://localhost:8080/"
        },
        "id": "kSxC78mQIH1P",
        "outputId": "e7428b90-ee44-4321-fd96-6a70c3586ecd"
      },
      "execution_count": 9,
      "outputs": [
        {
          "output_type": "execute_result",
          "data": {
            "text/plain": [
              "Dataset AdrenalMNIST3D (adrenalmnist3d)\n",
              "    Number of datapoints: 1188\n",
              "    Root location: /root/.medmnist\n",
              "    Split: train\n",
              "    Task: binary-class\n",
              "    Number of channels: 1\n",
              "    Meaning of labels: {'0': 'normal', '1': 'hyperplasia'}\n",
              "    Number of samples: {'train': 1188, 'val': 98, 'test': 298}\n",
              "    Description: The AdrenalMNIST3D is a new 3D shape classification dataset, consisting of shape masks from 1,584 left and right adrenal glands (i.e., 792 patients). Collected from Zhongshan Hospital Affiliated to Fudan University, each 3D shape of adrenal gland is annotated by an expert endocrinologist using abdominal computed tomography (CT), together with a binary classification label of normal adrenal gland or adrenal mass. Considering patient privacy, we do not provide the source CT scans, but the real 3D shapes of adrenal glands and their classification labels. We calculate the center of adrenal and resize the center-cropped 64mm×64mm×64mm volume into 28×28×28. The dataset is randomly split into training/validation/test set of 1,188/98/298 on a patient level.\n",
              "    License: CC BY 4.0"
            ]
          },
          "metadata": {},
          "execution_count": 9
        }
      ]
    },
    {
      "cell_type": "markdown",
      "source": [
        "# Training"
      ],
      "metadata": {
        "id": "PZ2uSArK4F7C"
      }
    },
    {
      "cell_type": "code",
      "execution_count": null,
      "metadata": {
        "colab": {
          "base_uri": "https://localhost:8080/"
        },
        "id": "mXonz7Y3tVbI",
        "outputId": "90f3733a-e4e1-4aa8-e4cf-8f6649cdd73d"
      },
      "outputs": [
        {
          "output_type": "stream",
          "name": "stdout",
          "text": [
            "epoch: 0, val_auc: 0.5688, lr: 0.1000\n",
            "epoch: 1, val_auc: 0.5084, lr: 0.1000\n",
            "epoch: 2, val_auc: 0.5706, lr: 0.1000\n",
            "epoch: 3, val_auc: 0.5520, lr: 0.1000\n",
            "epoch: 4, val_auc: 0.5849, lr: 0.1000\n",
            "epoch: 5, val_auc: 0.5951, lr: 0.1000\n",
            "epoch: 6, val_auc: 0.6573, lr: 0.1000\n",
            "epoch: 7, val_auc: 0.6669, lr: 0.1000\n",
            "epoch: 8, val_auc: 0.7255, lr: 0.1000\n",
            "epoch: 9, val_auc: 0.7189, lr: 0.1000\n",
            "epoch: 10, val_auc: 0.7207, lr: 0.1000\n",
            "epoch: 11, val_auc: 0.7261, lr: 0.1000\n",
            "epoch: 12, val_auc: 0.6890, lr: 0.1000\n",
            "epoch: 13, val_auc: 0.7560, lr: 0.1000\n",
            "epoch: 14, val_auc: 0.7488, lr: 0.1000\n",
            "epoch: 15, val_auc: 0.7392, lr: 0.1000\n",
            "epoch: 16, val_auc: 0.8337, lr: 0.1000\n",
            "epoch: 17, val_auc: 0.8056, lr: 0.1000\n",
            "epoch: 18, val_auc: 0.8164, lr: 0.1000\n",
            "epoch: 19, val_auc: 0.8134, lr: 0.1000\n",
            "epoch: 20, val_auc: 0.8086, lr: 0.1000\n",
            "epoch: 21, val_auc: 0.8104, lr: 0.1000\n",
            "epoch: 22, val_auc: 0.7171, lr: 0.1000\n",
            "epoch: 23, val_auc: 0.8140, lr: 0.1000\n",
            "epoch: 24, val_auc: 0.8140, lr: 0.1000\n",
            "epoch: 25, val_auc: 0.8355, lr: 0.1000\n",
            "epoch: 26, val_auc: 0.8020, lr: 0.1000\n",
            "epoch: 27, val_auc: 0.8630, lr: 0.1000\n",
            "epoch: 28, val_auc: 0.7279, lr: 0.1000\n",
            "epoch: 29, val_auc: 0.7853, lr: 0.1000\n",
            "epoch: 30, val_auc: 0.8098, lr: 0.1000\n",
            "epoch: 31, val_auc: 0.5879, lr: 0.1000\n",
            "epoch: 32, val_auc: 0.7171, lr: 0.1000\n",
            "epoch: 33, val_auc: 0.7410, lr: 0.1000\n",
            "epoch: 34, val_auc: 0.6705, lr: 0.1000\n",
            "epoch: 35, val_auc: 0.8337, lr: 0.1000\n",
            "epoch: 36, val_auc: 0.7554, lr: 0.1000\n",
            "epoch: 37, val_auc: 0.8062, lr: 0.1000\n",
            "epoch: 38, val_auc: 0.8361, lr: 0.1000\n",
            "epoch: 39, val_auc: 0.8206, lr: 0.1000\n",
            "epoch: 40, val_auc: 0.8110, lr: 0.1000\n",
            "epoch: 41, val_auc: 0.7195, lr: 0.1000\n",
            "epoch: 42, val_auc: 0.7446, lr: 0.1000\n",
            "epoch: 43, val_auc: 0.6687, lr: 0.1000\n",
            "epoch: 44, val_auc: 0.7554, lr: 0.1000\n",
            "epoch: 45, val_auc: 0.8289, lr: 0.1000\n",
            "epoch: 46, val_auc: 0.7721, lr: 0.1000\n",
            "epoch: 47, val_auc: 0.7578, lr: 0.1000\n",
            "epoch: 48, val_auc: 0.5927, lr: 0.1000\n",
            "epoch: 49, val_auc: 0.6782, lr: 0.1000\n",
            "epoch: 50, val_auc: 0.7685, lr: 0.1000\n",
            "epoch: 51, val_auc: 0.7099, lr: 0.1000\n",
            "epoch: 52, val_auc: 0.7524, lr: 0.1000\n",
            "epoch: 53, val_auc: 0.6250, lr: 0.1000\n",
            "epoch: 54, val_auc: 0.6902, lr: 0.1000\n",
            "epoch: 55, val_auc: 0.8146, lr: 0.1000\n",
            "epoch: 56, val_auc: 0.7022, lr: 0.1000\n",
            "epoch: 57, val_auc: 0.6920, lr: 0.1000\n",
            "epoch: 58, val_auc: 0.7961, lr: 0.1000\n",
            "epoch: 59, val_auc: 0.8272, lr: 0.1000\n",
            "epoch: 60, val_auc: 0.7661, lr: 0.1000\n",
            "epoch: 61, val_auc: 0.8098, lr: 0.1000\n",
            "epoch: 62, val_auc: 0.7434, lr: 0.1000\n",
            "epoch: 63, val_auc: 0.5377, lr: 0.1000\n",
            "epoch: 64, val_auc: 0.8110, lr: 0.1000\n",
            "epoch: 65, val_auc: 0.7638, lr: 0.1000\n",
            "epoch: 66, val_auc: 0.7350, lr: 0.1000\n",
            "epoch: 67, val_auc: 0.6334, lr: 0.1000\n",
            "epoch: 68, val_auc: 0.7847, lr: 0.1000\n",
            "epoch: 69, val_auc: 0.7644, lr: 0.1000\n",
            "epoch: 70, val_auc: 0.7817, lr: 0.1000\n",
            "epoch: 71, val_auc: 0.7028, lr: 0.1000\n",
            "epoch: 72, val_auc: 0.6417, lr: 0.1000\n",
            "epoch: 73, val_auc: 0.7398, lr: 0.1000\n",
            "epoch: 74, val_auc: 0.7590, lr: 0.1000\n",
            "epoch: 75, val_auc: 0.7344, lr: 0.1000\n",
            "epoch: 76, val_auc: 0.6609, lr: 0.1000\n",
            "epoch: 77, val_auc: 0.5885, lr: 0.1000\n",
            "epoch: 78, val_auc: 0.7261, lr: 0.1000\n",
            "epoch: 79, val_auc: 0.7799, lr: 0.1000\n",
            "epoch: 80, val_auc: 0.8218, lr: 0.1000\n",
            "epoch: 81, val_auc: 0.7871, lr: 0.1000\n",
            "epoch: 82, val_auc: 0.7356, lr: 0.1000\n",
            "epoch: 83, val_auc: 0.6830, lr: 0.1000\n",
            "epoch: 84, val_auc: 0.8325, lr: 0.1000\n",
            "epoch: 85, val_auc: 0.8487, lr: 0.1000\n",
            "epoch: 86, val_auc: 0.7685, lr: 0.1000\n",
            "epoch: 87, val_auc: 0.5879, lr: 0.1000\n",
            "epoch: 88, val_auc: 0.7488, lr: 0.1000\n",
            "epoch: 89, val_auc: 0.7602, lr: 0.1000\n",
            "epoch: 90, val_auc: 0.6154, lr: 0.1000\n",
            "epoch: 91, val_auc: 0.5849, lr: 0.1000\n",
            "epoch: 92, val_auc: 0.6968, lr: 0.1000\n",
            "epoch: 93, val_auc: 0.7542, lr: 0.1000\n",
            "epoch: 94, val_auc: 0.7165, lr: 0.1000\n",
            "epoch: 95, val_auc: 0.7249, lr: 0.1000\n",
            "epoch: 96, val_auc: 0.6866, lr: 0.1000\n",
            "epoch: 97, val_auc: 0.6974, lr: 0.1000\n",
            "epoch: 98, val_auc: 0.7165, lr: 0.1000\n",
            "epoch: 99, val_auc: 0.7410, lr: 0.1000\n",
            "epoch: 100, val_auc: 0.7350, lr: 0.1000\n"
          ]
        }
      ],
      "source": [
        "# Defining the ResNet-18 3D model\n",
        "model = ResNet18(pretrained=False)\n",
        "model = model.cuda()\n",
        "model.conv1 = nn.Conv2d(3, 64, kernel_size=3,stride=1, padding=1, bias=False)\n",
        "model = Conv3dConverter(model)\n",
        "\n",
        "num_ftrs = model.fc.in_features\n",
        "model.fc = nn.Sequential(\n",
        "    nn.Linear(num_ftrs, 2)\n",
        ")\n",
        "\n",
        "# LibAuc loss function and optimizer\n",
        "loss_fn = AUCMLoss()\n",
        "optimizer = PESG(model, loss_fn=loss_fn, momentum=0.7, margin=1.0, epoch_decay=0.05, lr=0.1, weight_decay=1e-4) #epoch_decay=0.05, 2e-3 #weight_decay=1e-4, 0.001\n",
        "\n",
        "best_val_auc = 0\n",
        "best_test_auc = 0\n",
        "\n",
        "for epoch in range(total_epochs):\n",
        "    train_loss = []\n",
        "    model = model.cuda()\n",
        "    model.train()\n",
        "    for data, targets in train_loader:\n",
        "        data, targets = data.cuda(), targets.cuda()\n",
        "        y_pred = model(data)\n",
        "        loss = loss_fn(y_pred, targets)\n",
        "        optimizer.zero_grad()\n",
        "        loss.backward()\n",
        "        optimizer.step()\n",
        "        train_loss.append(loss.item())\n",
        "\n",
        "    model.eval()\n",
        "\n",
        "    #To check for overfitting\n",
        "    # train_pred_list = []\n",
        "    # train_true_list = []\n",
        "    # for train_data, train_targets in train_loader_at_eval:\n",
        "    #     train_data = train_data.cuda()\n",
        "    #     train_pred = model(train_data)\n",
        "    #     train_pred_list.append(train_pred.cpu().detach().numpy())\n",
        "    #     train_true_list.append(train_targets.numpy())\n",
        "    # train_true = np.concatenate(train_true_list)\n",
        "    # train_pred = np.concatenate(train_pred_list)\n",
        "    # train_auc = auc_roc_score(train_true, train_pred)\n",
        "    # train_loss = np.mean(train_loss)\n",
        "\n",
        "    val_pred_list = []\n",
        "    val_true_list = []\n",
        "    for val_data, val_targets in val_loader:\n",
        "         val_data = val_data.cuda()\n",
        "         val_pred = model(val_data)\n",
        "         val_pred_list.append(val_pred.cpu().detach().numpy())\n",
        "         val_true_list.append(val_targets.numpy())\n",
        "    val_true = np.concatenate(val_true_list)\n",
        "    val_pred = np.concatenate(val_pred_list)\n",
        "    val_auc =  auc_roc_score(val_true, val_pred)\n",
        "\n",
        "    print(\"epoch: %s, val_auc: %.4f, lr: %.4f\"%(epoch,val_auc[0],optimizer.lr ))    \n",
        "\n",
        "    # Retain the best optimized model so we can use that to test\n",
        "    if val_auc[0] > best_val_auc:\n",
        "        best_val_auc = val_auc[0]\n",
        "        final_model=model\n"
      ]
    },
    {
      "cell_type": "markdown",
      "source": [
        "# Model Checkpoint"
      ],
      "metadata": {
        "id": "wg8hHo4PGtkM"
      }
    },
    {
      "cell_type": "code",
      "source": [
        "# Saving the final model\n",
        "state = {\n",
        "    'net': final_model.state_dict(),\n",
        "}\n",
        "#net.load_state_dict(torch.load(\"saved_model/test_model\"))\n",
        "torch.save(state, 'final_model_Adrenal.pth')"
      ],
      "metadata": {
        "id": "ES4-8XqhcbXu"
      },
      "execution_count": null,
      "outputs": []
    },
    {
      "cell_type": "markdown",
      "source": [
        "# Testing"
      ],
      "metadata": {
        "id": "V0ESLHE04JKV"
      }
    },
    {
      "cell_type": "code",
      "source": [
        "test_pred_list = []\n",
        "test_true_list = [] \n",
        "for test_data, test_targets in test_loader:\n",
        "    test_data  = test_data.cuda()\n",
        "    test_pred = final_model(test_data)\n",
        "    test_pred_list.append(test_pred.cpu().detach().numpy())\n",
        "    test_true_list.append(test_targets.numpy())\n",
        "test_true = np.concatenate(test_true_list)\n",
        "test_pred = np.concatenate(test_pred_list)\n",
        "test_auc =  auc_roc_score(test_true, test_pred) \n",
        "\n",
        "test_pred_binary = (test_pred > 0.5).astype(int)\n",
        "#test_accuracy = accuracy_score(test_true, test_pred_binary)   \n",
        "print(test_auc[0])  \n"
      ],
      "metadata": {
        "colab": {
          "base_uri": "https://localhost:8080/"
        },
        "id": "2BVm2tkkygkR",
        "outputId": "33ed3d1c-1ce5-48f5-d5bb-13fe06180d79"
      },
      "execution_count": null,
      "outputs": [
        {
          "output_type": "stream",
          "name": "stdout",
          "text": [
            "0.806467945066768\n"
          ]
        }
      ]
    },
    {
      "cell_type": "markdown",
      "source": [
        "# Evaluation"
      ],
      "metadata": {
        "id": "x9UzekrC44r6"
      }
    },
    {
      "cell_type": "code",
      "source": [
        "# As given in Demo Eval file on canvas\n",
        "def evaluate(net, test_loader):\n",
        "    # Testing AUC\n",
        "    score_list = list()\n",
        "    label_list = list()\n",
        "    for tmp_data, tmp_label in test_loader:\n",
        "        tmp_data, tmp_label = tmp_data.cuda(), tmp_label.cuda()      \n",
        "        tmp_score = net(tmp_data).detach().clone().cpu()\n",
        "        score_list.append(tmp_score)\n",
        "        label_list.append(tmp_label.cpu())\n",
        "    test_label = torch.cat(label_list)\n",
        "    test_score = torch.cat(score_list)\n",
        "                   \n",
        "    test_auc = auc_roc_score(test_label, test_score)                   \n",
        "    #print(\"Test: %.4f\"%test_auc, flush=True)\n",
        "    print(\"AUC: \",test_auc[0])\n",
        "\n",
        "evaluate(final_model, test_loader)"
      ],
      "metadata": {
        "colab": {
          "base_uri": "https://localhost:8080/"
        },
        "id": "dSOdVhuC4VME",
        "outputId": "f559ed94-d7c7-47e2-e3b6-5693dc4bb2bb"
      },
      "execution_count": null,
      "outputs": [
        {
          "output_type": "stream",
          "name": "stdout",
          "text": [
            "AUC:  0.806467945066768\n"
          ]
        }
      ]
    },
    {
      "cell_type": "code",
      "source": [],
      "metadata": {
        "id": "N3zNqt1G6mWI"
      },
      "execution_count": null,
      "outputs": []
    }
  ],
  "metadata": {
    "colab": {
      "provenance": [],
      "gpuType": "T4"
    },
    "gpuClass": "standard",
    "kernelspec": {
      "display_name": "Python 3",
      "name": "python3"
    },
    "language_info": {
      "name": "python"
    },
    "accelerator": "GPU"
  },
  "nbformat": 4,
  "nbformat_minor": 0
}